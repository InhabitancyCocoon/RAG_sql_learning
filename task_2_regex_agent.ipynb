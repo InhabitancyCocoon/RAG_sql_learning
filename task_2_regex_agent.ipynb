{
 "cells": [
  {
   "cell_type": "code",
   "execution_count": 1,
   "metadata": {},
   "outputs": [],
   "source": [
    "import time\n",
    "import jwt\n",
    "import requests\n",
    "from numpy import dot\n",
    "from numpy.linalg import norm\n",
    "\n",
    "\n",
    "KEY = '7bf001734ef2fd7f7a55bf51dadd7cbb.BMAsoKRDFTmTEPwj'\n",
    "\n",
    "# 实际KEY，过期时间\n",
    "\n",
    "\n",
    "def generate_token(apikey: str, exp_seconds: int):\n",
    "    try:\n",
    "        id, secret = apikey.split('.')\n",
    "    except Exception as e:\n",
    "        raise Exception('invalid apikey', e)\n",
    "\n",
    "    payload = {\n",
    "        'api_key': id,\n",
    "        'exp': int(round(time.time() * 1000)) + exp_seconds * 1000,\n",
    "        'timestamp': int(round(time.time() * 1000)),\n",
    "    }\n",
    "    return jwt.encode(\n",
    "        payload,\n",
    "        secret,\n",
    "        algorithm='HS256',\n",
    "        headers={'alg': 'HS256', 'sign_type': 'SIGN'},\n",
    "    )"
   ]
  },
  {
   "cell_type": "code",
   "execution_count": 2,
   "metadata": {},
   "outputs": [],
   "source": [
    "def ask_glm(content):\n",
    "    url = \"https://open.bigmodel.cn/api/paas/v4/chat/completions\"\n",
    "    headers = {\n",
    "      'Content-Type': 'application/json',\n",
    "      'Authorization': generate_token(KEY, 1000)\n",
    "    }\n",
    "\n",
    "    data = {\n",
    "        \"model\": \"glm-4\",\n",
    "        \"messages\": [{\"role\": \"user\", \"content\": content}]\n",
    "    }\n",
    "\n",
    "    response = requests.post(url, headers=headers, json=data)\n",
    "    return response.json()"
   ]
  },
  {
   "cell_type": "code",
   "execution_count": 3,
   "metadata": {},
   "outputs": [
    {
     "name": "stdout",
     "output_type": "stream",
     "text": [
      "`\\b[A-Z][a-z]*\\b`\n"
     ]
    }
   ],
   "source": [
    "def regex_agent(question):\n",
    "    prompt_template = '''你是一个专业的python的工程师，擅长编写各种的正则表达式。将下面的要求转换为正则匹配表达式，只需要输出表达式，不要有其他的输出。\n",
    "{0}\n",
    "    '''.format(question)\n",
    "\n",
    "    return ask_glm(prompt_template)['choices'][0]['message']['content']\n",
    "\n",
    "print(regex_agent(\"识别首字母大写单词的正则\"))"
   ]
  },
  {
   "cell_type": "code",
   "execution_count": 6,
   "metadata": {},
   "outputs": [],
   "source": [
    "pattern = r'\\b[A-Z][a-z]*\\b'"
   ]
  },
  {
   "cell_type": "code",
   "execution_count": 7,
   "metadata": {},
   "outputs": [],
   "source": [
    "import re"
   ]
  },
  {
   "cell_type": "code",
   "execution_count": 8,
   "metadata": {},
   "outputs": [
    {
     "name": "stdout",
     "output_type": "stream",
     "text": [
      "The first capitalized word is: This\n"
     ]
    }
   ],
   "source": [
    "text = \"hello world. This is an example sentence with some Capitals.\"\n",
    "# 使用search函数在文本中搜索第一个符合模式的结果\n",
    "match = re.search(pattern, text)\n",
    "\n",
    "if match:\n",
    "    # 打印出第一个首字母大写的单词\n",
    "    print(\"The first capitalized word is:\", match.group())\n",
    "else:\n",
    "    print(\"No capitalized word found.\")"
   ]
  },
  {
   "cell_type": "code",
   "execution_count": null,
   "metadata": {},
   "outputs": [],
   "source": []
  }
 ],
 "metadata": {
  "kernelspec": {
   "display_name": "yyk",
   "language": "python",
   "name": "python3"
  },
  "language_info": {
   "codemirror_mode": {
    "name": "ipython",
    "version": 3
   },
   "file_extension": ".py",
   "mimetype": "text/x-python",
   "name": "python",
   "nbconvert_exporter": "python",
   "pygments_lexer": "ipython3",
   "version": "3.12.1"
  },
  "orig_nbformat": 4
 },
 "nbformat": 4,
 "nbformat_minor": 2
}
